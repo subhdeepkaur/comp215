{
  "nbformat": 4,
  "nbformat_minor": 0,
  "metadata": {
    "kernelspec": {
      "display_name": "Python 3",
      "language": "python",
      "name": "python3"
    },
    "language_info": {
      "codemirror_mode": {
        "name": "ipython",
        "version": 2
      },
      "file_extension": ".py",
      "mimetype": "text/x-python",
      "name": "python",
      "nbconvert_exporter": "python",
      "pygments_lexer": "ipython2",
      "version": "2.7.6"
    },
    "colab": {
      "provenance": [],
      "include_colab_link": true
    }
  },
  "cells": [
    {
      "cell_type": "markdown",
      "metadata": {
        "id": "view-in-github",
        "colab_type": "text"
      },
      "source": [
        "<a href=\"https://colab.research.google.com/github/subhdeepkaur/comp215/blob/main/labs/lab02-review.ipynb\" target=\"_parent\"><img src=\"https://colab.research.google.com/assets/colab-badge.svg\" alt=\"Open In Colab\"/></a>"
      ]
    },
    {
      "cell_type": "markdown",
      "source": [
        "COMP 215 - LAB 2\n",
        "----------------\n",
        "#### Name(s):\n",
        "#### Date:\n",
        "\n",
        "By the end of this lab you should be able to:\n",
        "  * use strings, tuples, lists, and dictionaries (review)\n",
        "  * use *f-string* to simplify string formatting operations\n",
        "  * write functions and simple unit tests (review)\n",
        "  * use *list comprehension* to implement map and filter algorithms\n",
        "\n",
        "\n",
        "During this lab, you will be introduced to the following:\n",
        "  * API Keys\n",
        "  * JSON data formats\n",
        "  * the `datetime` module to represent dates and times\n",
        "  * the `pprint` module to format data structures"
      ],
      "metadata": {
        "id": "nbRPZPKZU5Pk"
      }
    },
    {
      "cell_type": "markdown",
      "source": [
        "## Near Earth Objects\n",
        "\n",
        "In this lab, we'll answer some questions about [Near Earth Objects](https://cneos.jpl.nasa.gov/) using NASA's API:  [https://api.nasa.gov/](https://api.nasa.gov/#NeoWS).  But, as usual, let's do the imports first.\n"
      ],
      "metadata": {
        "id": "UtWS08rgocwz"
      }
    },
    {
      "cell_type": "code",
      "execution_count": 37,
      "outputs": [],
      "source": [
        "import datetime, json, requests\n",
        "from datetime import timedelta\n",
        "from pprint import pprint    # Pretty Print - built-in python function to nicely format data structures"
      ],
      "metadata": {
        "pycharm": {
          "name": "#%%\n"
        },
        "ExecuteTime": {
          "end_time": "2024-01-04T04:05:38.688434Z",
          "start_time": "2024-01-04T04:05:38.640552Z"
        },
        "id": "uckgiW6LmxA_"
      }
    },
    {
      "cell_type": "markdown",
      "source": [
        "### dates & f-strings\n",
        "\n",
        "First we need a short tutorial on python dates and [f-strings](https://realpython.com/python-f-strings/)..."
      ],
      "metadata": {
        "collapsed": false,
        "pycharm": {
          "name": "#%% md\n"
        },
        "id": "z7R9AVbYmxBA"
      }
    },
    {
      "cell_type": "code",
      "execution_count": 38,
      "outputs": [
        {
          "output_type": "stream",
          "name": "stdout",
          "text": [
            "2025-01-16 <class 'datetime.date'>\n",
            "Today is: 2025-01-16\n"
          ]
        }
      ],
      "source": [
        "today = datetime.date.today()   # get a date object representing today's date\n",
        "print(today, type(today))\n",
        "formatted_date = f'Today is: {today}'   # A format string - notice how the variable `today` is formatted into the string\n",
        "print(formatted_date)"
      ],
      "metadata": {
        "pycharm": {
          "name": "#%%\n"
        },
        "ExecuteTime": {
          "end_time": "2024-01-04T04:05:38.691283Z",
          "start_time": "2024-01-04T04:05:38.688366Z"
        },
        "colab": {
          "base_uri": "https://localhost:8080/"
        },
        "id": "FIqwOe5SmxBA",
        "outputId": "6d32534a-1b5f-49c4-fd7c-0b35c15f8b45"
      }
    },
    {
      "cell_type": "markdown",
      "source": [
        "### Make an API Query\n",
        "\n",
        "Let's get some data from the NEO database; here's a query that gets the observation \"feed\" for today.  Notice the first line of the block is an 'API key'.  An API key is a unique identifier that authenticates a user when making a request to an API.  Run the block below using the API key 'DEMO_KEY' (just to be sure it works), then go to https://api.nasa.gov and get your own API key.  Use your own API key for the remainder of the lab."
      ],
      "metadata": {
        "collapsed": false,
        "pycharm": {
          "name": "#%% md\n"
        },
        "id": "NyY93KiOmxBB"
      }
    },
    {
      "cell_type": "code",
      "execution_count": 39,
      "outputs": [
        {
          "output_type": "stream",
          "name": "stdout",
          "text": [
            "3 Near Earth Objects found for 2025-01-16\n",
            "[{'absolute_magnitude_h': 25.3,\n",
            "  'close_approach_data': [{'close_approach_date': '2025-01-16',\n",
            "                           'close_approach_date_full': '2025-Jan-16 20:32',\n",
            "                           'epoch_date_close_approach': 1737059520000,\n",
            "                           'miss_distance': {'astronomical': '0.2651162835',\n",
            "                                             'kilometers': '39660831.313916145',\n",
            "                                             'lunar': '103.1302342815',\n",
            "                                             'miles': '24644097.816467001'},\n",
            "                           'orbiting_body': 'Earth',\n",
            "                           'relative_velocity': {'kilometers_per_hour': '56420.9370068609',\n",
            "                                                 'kilometers_per_second': '15.6724825019',\n",
            "                                                 'miles_per_hour': '35057.7761085131'}}],\n",
            "  'estimated_diameter': {'feet': {'estimated_diameter_max': 169.8341531374,\n",
            "                                  'estimated_diameter_min': 75.9521422633},\n",
            "                         'kilometers': {'estimated_diameter_max': 0.0517654482,\n",
            "                                        'estimated_diameter_min': 0.0231502122},\n",
            "                         'meters': {'estimated_diameter_max': 51.7654482198,\n",
            "                                    'estimated_diameter_min': 23.150212221},\n",
            "                         'miles': {'estimated_diameter_max': 0.0321655483,\n",
            "                                   'estimated_diameter_min': 0.0143848705}},\n",
            "  'id': '3656929',\n",
            "  'is_potentially_hazardous_asteroid': False,\n",
            "  'is_sentry_object': False,\n",
            "  'links': {'self': 'http://api.nasa.gov/neo/rest/v1/neo/3656929?api_key=kD4SgSlB5xjFq2OtGum5s5AlwF4nbUxpMJnfm0eo'},\n",
            "  'name': '(2014 BG25)',\n",
            "  'nasa_jpl_url': 'https://ssd.jpl.nasa.gov/tools/sbdb_lookup.html#/?sstr=3656929',\n",
            "  'neo_reference_id': '3656929'}]\n"
          ]
        }
      ],
      "source": [
        "API_KEY = 'kD4SgSlB5xjFq2OtGum5s5AlwF4nbUxpMJnfm0eo'  # substitute your API key here\n",
        "\n",
        "# get today's date (as a string)\n",
        "today = str(datetime.date.today())\n",
        "\n",
        "\n",
        "# use an f-string to \"format\" the date and API key varaibles.\n",
        "url = f'https://api.nasa.gov/neo/rest/v1/feed?start_date={today}&end_date={today}&api_key={API_KEY}'\n",
        "\n",
        "# make the API request (recall from lab 1)\n",
        "response = requests.request(\"GET\", url, headers={}, data={})\n",
        "\n",
        "# convert the response to json format (recall from lab 1)\n",
        "data = json.loads(response.text)\n",
        "\n",
        "\n",
        "# TIP: print(data) to see the whole data structure returned, here we grab just the list of NEO's:\n",
        "n_results = len(data)\n",
        "neos = data['near_earth_objects'][today]\n",
        "print(f'{n_results} Near Earth Objects found for {today}')\n",
        "pprint(neos[:1])"
      ],
      "metadata": {
        "collapsed": true,
        "pycharm": {
          "name": "#%%\n"
        },
        "ExecuteTime": {
          "end_time": "2024-01-04T04:05:43.064157Z",
          "start_time": "2024-01-04T04:05:38.691252Z"
        },
        "id": "vZYx2VfXmxBB",
        "outputId": "17aae022-3493-45ca-bfd6-3da689c1888c",
        "colab": {
          "base_uri": "https://localhost:8080/"
        }
      }
    },
    {
      "cell_type": "markdown",
      "source": [
        "Next we extract just the potentially hazerdous asteroids, using a Comp115-style list accumulator *loop*:"
      ],
      "metadata": {
        "collapsed": false,
        "pycharm": {
          "name": "#%% md\n"
        },
        "id": "g7VOkS2PmxBB"
      }
    },
    {
      "cell_type": "code",
      "execution_count": 40,
      "metadata": {
        "id": "JDGbYTySU3BP",
        "ExecuteTime": {
          "end_time": "2024-01-04T04:05:43.065108Z",
          "start_time": "2024-01-04T04:05:43.062239Z"
        },
        "colab": {
          "base_uri": "https://localhost:8080/"
        },
        "outputId": "d91657b7-ca27-4b77-80d4-5ab5e50a1012"
      },
      "outputs": [
        {
          "output_type": "stream",
          "name": "stdout",
          "text": [
            "0 potentially hazardous asteroids identified.\n"
          ]
        }
      ],
      "source": [
        "hazards =  []\n",
        "for item in neos:\n",
        "  if item['is_potentially_hazardous_asteroid'] is True:\n",
        "    hazards.append(item)\n",
        "print(f'{len(hazards)} potentially hazardous asteroids identified.')\n",
        "\n"
      ]
    },
    {
      "cell_type": "markdown",
      "source": [
        "### Fetch Complete Data for One Asteroid\n",
        "\n",
        "Notice that the record for each `neo` is a dictionary with `id` field that uniquely identifies this record in the database.  We can use this `id` to fetch complete orbital and close approach data for the NEO.  For example, this query fetches the complete data set for the first hazardous asteroid...  Notice that the `miss_distance` field contains the distance (in various units) by which the NEO missed an \"orbiting body\".\n"
      ],
      "metadata": {
        "collapsed": false,
        "pycharm": {
          "name": "#%% md\n"
        },
        "id": "Um5gAiVTmxBC"
      }
    },
    {
      "cell_type": "code",
      "execution_count": 41,
      "outputs": [
        {
          "output_type": "stream",
          "name": "stdout",
          "text": [
            "none\n",
            "{'absolute_magnitude_h': 25.395,\n",
            " 'close_approach_data': [{'close_approach_date': '2025-01-09',\n",
            "                          'close_approach_date_full': '2025-Jan-09 06:09',\n",
            "                          'epoch_date_close_approach': 1736402940000,\n",
            "                          'miss_distance': {'astronomical': '0.0211729715',\n",
            "                                            'kilometers': '3167431.437970705',\n",
            "                                            'lunar': '8.2362859135',\n",
            "                                            'miles': '1968150.631197529'},\n",
            "                          'orbiting_body': 'Earth',\n",
            "                          'relative_velocity': {'kilometers_per_hour': '70149.0174001931',\n",
            "                                                'kilometers_per_second': '19.4858381667',\n",
            "                                                'miles_per_hour': '43587.8713951366'}}],\n",
            " 'designation': '2025 AU3',\n",
            " 'estimated_diameter': {'feet': {'estimated_diameter_max': 162.5642444865,\n",
            "                                 'estimated_diameter_min': 72.7009402765},\n",
            "                        'kilometers': {'estimated_diameter_max': 0.0495495801,\n",
            "                                       'estimated_diameter_min': 0.0221592459},\n",
            "                        'meters': {'estimated_diameter_max': 49.5495801339,\n",
            "                                   'estimated_diameter_min': 22.1592458872},\n",
            "                        'miles': {'estimated_diameter_max': 0.0307886722,\n",
            "                                  'estimated_diameter_min': 0.0137691128}},\n",
            " 'id': '54515856',\n",
            " 'is_potentially_hazardous_asteroid': False,\n",
            " 'is_sentry_object': False,\n",
            " 'links': {'self': 'http://api.nasa.gov/neo/rest/v1/neo/54515856?api_key=kD4SgSlB5xjFq2OtGum5s5AlwF4nbUxpMJnfm0eo'},\n",
            " 'name': '(2025 AU3)',\n",
            " 'nasa_jpl_url': 'https://ssd.jpl.nasa.gov/tools/sbdb_lookup.html#/?sstr=54515856',\n",
            " 'neo_reference_id': '54515856',\n",
            " 'orbital_data': {'aphelion_distance': '1.537295129940065',\n",
            "                  'ascending_node_longitude': '108.9460125416761',\n",
            "                  'data_arc_in_days': 2,\n",
            "                  'eccentricity': '.2096960361357981',\n",
            "                  'epoch_osculation': '2460685.5',\n",
            "                  'equinox': 'J2000',\n",
            "                  'first_observation_date': '2025-01-09',\n",
            "                  'inclination': '35.79727669604609',\n",
            "                  'jupiter_tisserand_invariant': '4.878',\n",
            "                  'last_observation_date': '2025-01-11',\n",
            "                  'mean_anomaly': '2.299159365093597',\n",
            "                  'mean_motion': '.6879907246683623',\n",
            "                  'minimum_orbit_intersection': '.0211522',\n",
            "                  'observations_used': 45,\n",
            "                  'orbit_class': {'orbit_class_description': 'Near-Earth '\n",
            "                                                             'asteroid orbits '\n",
            "                                                             'which cross the '\n",
            "                                                             'Earth’s orbit '\n",
            "                                                             'similar to that '\n",
            "                                                             'of 1862 Apollo',\n",
            "                                  'orbit_class_range': 'a (semi-major axis) > '\n",
            "                                                       '1.0 AU; q (perihelion) '\n",
            "                                                       '< 1.017 AU',\n",
            "                                  'orbit_class_type': 'APO'},\n",
            "                  'orbit_determination_date': '2025-01-11 07:42:03',\n",
            "                  'orbit_id': '1',\n",
            "                  'orbit_uncertainty': '8',\n",
            "                  'orbital_period': '523.2628683672061',\n",
            "                  'perihelion_argument': '357.1911136616652',\n",
            "                  'perihelion_distance': '1.004327036320371',\n",
            "                  'perihelion_time': '2460682.158153543855',\n",
            "                  'semi_major_axis': '1.270811083130218'}}\n"
          ]
        }
      ],
      "source": [
        "if hazards==[]:\n",
        "  print(\"none\")\n",
        "else:\n",
        "  id = hazards[0]['id']\n",
        "url = f'https://api.nasa.gov/neo/rest/v1/neo/{id}?api_key={API_KEY}'\n",
        "response = requests.request(\"GET\", url, headers={}, data={})\n",
        "data = json.loads(response.text)\n",
        "\n",
        "pprint(data)"
      ],
      "metadata": {
        "collapsed": true,
        "pycharm": {
          "name": "#%%\n"
        },
        "ExecuteTime": {
          "end_time": "2024-01-04T04:05:43.787125Z",
          "start_time": "2024-01-04T04:05:43.067936Z"
        },
        "id": "NVRl3l7EmxBC",
        "outputId": "8e13f80b-287f-498a-a619-f838b67fa64a",
        "colab": {
          "base_uri": "https://localhost:8080/"
        }
      }
    },
    {
      "cell_type": "markdown",
      "source": [
        "## Exercise 1\n",
        "\n",
        "In the code cell below, **re-write the accumulator loop** that creates the list of hazards as a [list comprehension](https://realpython.com/lessons/list-comprehensions-overview/) that implements a [\"filter\"](https://youtu.be/hUes6y2b--0)\n",
        "Notice how this provides a concise way to \"filter\" items of interest from a larger data set."
      ],
      "metadata": {
        "collapsed": false,
        "pycharm": {
          "name": "#%% md\n"
        },
        "id": "93ns5r8gmxBB"
      }
    },
    {
      "cell_type": "code",
      "execution_count": 42,
      "outputs": [
        {
          "output_type": "execute_result",
          "data": {
            "text/plain": [
              "'0potentially hazardous asteroids identified.'"
            ],
            "application/vnd.google.colaboratory.intrinsic+json": {
              "type": "string"
            }
          },
          "metadata": {},
          "execution_count": 42
        }
      ],
      "source": [
        "# Ex. 1 your code here\n",
        "#list comprehension to get the required list\n",
        "hazards=[item for item in neos if item['is_potentially_hazardous_asteroid'] is True]\n",
        "f'{len(hazards)}potentially hazardous asteroids identified.'"
      ],
      "metadata": {
        "pycharm": {
          "name": "#%%\n"
        },
        "ExecuteTime": {
          "end_time": "2024-01-04T04:05:43.069849Z",
          "start_time": "2024-01-04T04:05:43.065922Z"
        },
        "id": "ewkwkc8wmxBB",
        "outputId": "18551249-2c14-463c-c6de-f1c050166955",
        "colab": {
          "base_uri": "https://localhost:8080/",
          "height": 35
        }
      }
    },
    {
      "cell_type": "markdown",
      "source": [
        "\n",
        "\n",
        "## Exercise 2\n",
        "\n",
        "In the code cell below, write a python function that takes a list of \"close approach data\" as a parameter,\n",
        "and returns a 2-tuple with the (date, miss km) of the closest approach to Earth in the list (where \"miss km\" is the miss distance in km).\n",
        "\n",
        "Hints:\n",
        "* notice the input is a list of dictionaries.  Each dictionary has a 'close_approach_date\", \"orbiting_body\", and 'miss_distance' field.\n",
        "* we are only interested in the closest approach to \"Earth\"\n",
        "\n",
        "\n",
        "Add at least one unit test to check your work - note the test data only needs dictionaries with the fields your function actually uses.\n"
      ],
      "metadata": {
        "id": "DNRs7ynOYwYk"
      }
    },
    {
      "cell_type": "code",
      "source": [
        "# Ex. 2 your code here\n",
        "#function to find the closest object\n",
        "def closest_approach(close_approach_data):\n",
        "  closest = None\n",
        "  min_distance = float('inf')  #taking the max distance as closest\n",
        "\n",
        "  for approach in close_approach_data:\n",
        "      if approach['orbiting_body'] == \"Earth\":\n",
        "          distance_km = float(approach['miss_distance']['kilometers'])\n",
        "          if distance_km < min_distance:\n",
        "              min_distance = distance_km\n",
        "              closest = (approach['close_approach_date'], distance_km)\n",
        "\n",
        "  return closest\n",
        "\n",
        "#function testing\n",
        "test_data = [\n",
        "    {'close_approach_date': '2023-01-10', 'orbiting_body': 'Earth', 'miss_distance': {'kilometers': '500000'}},\n",
        "    {'close_approach_date': '2023-01-11', 'orbiting_body': 'Earth', 'miss_distance': {'kilometers': '300000'}}\n",
        "]\n",
        "assert closest_approach(test_data) == ('2023-01-11', 300000.0)\n",
        "print(\"Unit test passed.\")"
      ],
      "metadata": {
        "id": "tiyXTDfnZAd0",
        "ExecuteTime": {
          "end_time": "2024-01-04T04:05:43.790535Z",
          "start_time": "2024-01-04T04:05:43.787064Z"
        },
        "outputId": "60e5d118-65b4-4734-9959-13a454515039",
        "colab": {
          "base_uri": "https://localhost:8080/"
        }
      },
      "execution_count": 43,
      "outputs": [
        {
          "output_type": "stream",
          "name": "stdout",
          "text": [
            "Unit test passed.\n"
          ]
        }
      ]
    },
    {
      "cell_type": "markdown",
      "source": [
        "## Challenge Exercise\n",
        "\n",
        "In the code cell below, write a complete program that:\n",
        " 1. fetches the list of NEO's for this week.\n",
        " 2. for each NEO, fetch it's complete orbital data and determine its closest approach to Earth\n",
        " 3. identify which NEO from this week's data makes the closet approach to earth\n",
        " 4. print a nice message with information about the NEO, which it will approach the Earth, and how close it will come.\n",
        "\n",
        "Hints:\n",
        "* you'll need the start and end date - end date is today, see if you can use a [`timedelta`](https://docs.python.org/3/library/datetime.html#timedelta-objects) object to ge the start date (you can do basic \"date math\" with `timedelta` and `date` objects!)\n",
        "* you may need to modify the function we wrote in Ex. 2 to return a triple with the NEO's id included;\n",
        "* lots of opportunity here for more practice with list comprehensions\n"
      ],
      "metadata": {
        "collapsed": false,
        "id": "BrVVSFCnmxBC"
      }
    },
    {
      "cell_type": "code",
      "source": [
        "# Ex. 3 (challenge) your code here\n",
        "API_KEY = 'kD4SgSlB5xjFq2OtGum5s5AlwF4nbUxpMJnfm0eo' # Replace with your NASA API key\n",
        "\n",
        "\n",
        "\n",
        "# Fetching NEOs for the week\n",
        "today = datetime.date.today()\n",
        "start_date = (today - timedelta(days=7)).strftime('%Y-%m-%d')\n",
        "end_date = today.strftime('%Y-%m-%d')\n",
        "\n",
        "url = f'https://api.nasa.gov/neo/rest/v1/feed?start_date={start_date}&end_date={end_date}&api_key={API_KEY}'\n",
        "response = requests.get(url)\n",
        "data = json.loads(response.text)\n",
        "\n",
        "# Extracting NEOs and identifying the closest approach\n",
        "neos = [neo for day in data['near_earth_objects'].values() for neo in day]\n",
        "closest_neo = None\n",
        "closest_date = None\n",
        "closest_distance = float('inf')\n",
        "\n",
        "for neo in neos:\n",
        "    # Fetch complete orbital data\n",
        "    id = neo['id']\n",
        "    url = f'https://api.nasa.gov/neo/rest/v1/neo/{id}?api_key={API_KEY}'\n",
        "    response = requests.get(url)\n",
        "    orbital_data = json.loads(response.text)\n",
        "\n",
        "    # Determine closest approach\n",
        "    approach = closest_approach(orbital_data['close_approach_data'])\n",
        "    if approach and approach[1] < closest_distance:\n",
        "        closest_neo = neo\n",
        "        closest_date, closest_distance = approach\n",
        "\n",
        "# Print details of the closest NEO\n",
        "if closest_neo:\n",
        "    print(f\"Closest NEO: {closest_neo['name']}\")\n",
        "    print(f\"Date of closest approach: {closest_date}\")\n",
        "    print(f\"Miss distance: {closest_distance:.2f} km\")\n",
        "else:\n",
        "    print(\"No close approaches identified this week.\")\n"
      ],
      "metadata": {
        "id": "Ds1YevErlzCe",
        "pycharm": {
          "name": "#%%\n"
        },
        "ExecuteTime": {
          "end_time": "2024-01-04T04:05:43.790766Z",
          "start_time": "2024-01-04T04:05:43.789211Z"
        },
        "outputId": "39b08544-4fc1-413d-a58b-73a183f91fd9",
        "colab": {
          "base_uri": "https://localhost:8080/"
        }
      },
      "execution_count": 47,
      "outputs": [
        {
          "output_type": "stream",
          "name": "stdout",
          "text": [
            "Closest NEO: (2021 JE1)\n",
            "Date of closest approach: 2054-12-10\n",
            "Miss distance: 109331.49 km\n"
          ]
        }
      ]
    }
  ]
}